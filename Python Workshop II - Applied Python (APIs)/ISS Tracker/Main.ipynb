{
 "cells": [
  {
   "cell_type": "code",
   "execution_count": null,
   "metadata": {},
   "outputs": [],
   "source": [
    "#Real time ISS tracker - www.101computing.net/real-time-ISS-tracker/\n",
    "\n",
    "import json, turtle, urllib.request, time\n",
    "\n",
    "\n",
    "#A first JSON request to retrieve the name of all the astronauts currently in space.\n",
    "url = \"http://api.open-notify.org/astros.json\"\n",
    "response = urllib.request.urlopen(url)\n",
    "result = json.loads(response.read())\n",
    "print(\"There are currently \" + str(result[\"number\"]) + \" astronauts in space:\")\n",
    "print(\"\")\n",
    "\n",
    "people = result[\"people\"]\n",
    "\n",
    "for p in people:\n",
    "  print(p[\"name\"] + \" on board of \" + p[\"craft\"])\n",
    "\n",
    "\n",
    "#Display information on world map using Python Turtle\n",
    "screen = turtle.Screen()\n",
    "screen.setup(720, 360)\n",
    "screen.setworldcoordinates(-180, -90, 180, 90)\n",
    "#Load the world map picture\n",
    "screen.bgpic(\"world-map.gif\")\n",
    "  \n",
    "screen.register_shape(\"iss.gif\")\n",
    "iss = turtle.Turtle()\n",
    "iss.shape(\"iss.gif\")\n",
    "iss.setheading(45)\n",
    "iss.penup()\n",
    "\n",
    "while True:\n",
    "  #A JSON request to retrieve the current longitude and latitude of the IIS space station (real time)  \n",
    "  url = \"http://api.open-notify.org/iss-now.json\"\n",
    "  response = urllib.request.urlopen(url)\n",
    "  result = json.loads(response.read())\n",
    "    \n",
    "  #Let's extract the required information\n",
    "  location =result[\"iss_position\"]\n",
    "  lat = location[\"latitude\"]\n",
    "  lon = location[\"longitude\"]\n",
    "    \n",
    "  #Output informationon screen\n",
    "  print(\"\\nLatitude: \" + str(lat))\n",
    "  print(\"Longitude: \" +str(lon))\n",
    "  \n",
    "  #Plot the ISS on the map  \n",
    "  iss.goto(float(lon), float(lat))\n",
    "  #refresh position every 5 seconds\n",
    "  time.sleep(5)\n",
    "\n"
   ]
  },
  {
   "cell_type": "code",
   "execution_count": null,
   "metadata": {},
   "outputs": [],
   "source": []
  }
 ],
 "metadata": {
  "kernelspec": {
   "display_name": "Python 3",
   "language": "python",
   "name": "python3"
  },
  "language_info": {
   "codemirror_mode": {
    "name": "ipython",
    "version": 3
   },
   "file_extension": ".py",
   "mimetype": "text/x-python",
   "name": "python",
   "nbconvert_exporter": "python",
   "pygments_lexer": "ipython3",
   "version": "3.8.1"
  }
 },
 "nbformat": 4,
 "nbformat_minor": 4
}

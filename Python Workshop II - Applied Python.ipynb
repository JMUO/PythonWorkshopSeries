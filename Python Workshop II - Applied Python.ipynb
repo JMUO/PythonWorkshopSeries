{
 "cells": [
  {
   "cell_type": "markdown",
   "metadata": {},
   "source": [
    "# Python Workshop II - Applied Python"
   ]
  },
  {
   "cell_type": "markdown",
   "metadata": {},
   "source": [
    "# Introduction to Application Programing Interface (API)\n",
    "\n",
    "Application Programing Interfaces, or API's, are interfaces or communication protocols between different parts of a computer program intded to simplify the implementation and maintenance of software. In other words, APIs act as an intermediary service between website data and your application.\n",
    "\n",
    "API's are useful for gathering specific data from a website that has lots of large data sets, or for routing data directly into an application.\n",
    "\n",
    "What are example of API's?\n",
    "    - US Census API - https://www.census.gov/data/developers/data-sets.html\n",
    "    - NOAA API - https://www.ncdc.noaa.gov/cdo-web/webservices/v2\n",
    "    - GoogleMaps API - https://developers.google.com/maps/documentation\n",
    "    \n",
    "Requesting data from a website over and over again can be expensive for the website managing the data. Many API's have limits to the number of calls you can do with your API key, either on a per day basis or overall.\n",
    "\n",
    "# How to Start Using APIs\n",
    "\n",
    "To use some APIs, one must first procure an API key. An API key is a unique identifier that personally associates you with data requests. API keys are free to procure, however, services that are called upon by your API key may cost money, depending on the site and service (i.e., Geocoding in Google Maps)\n",
    "\n",
    "Other API's are websites that present information in JSON format that can be imported directly into Python.\n",
    "\n",
    "API's aren't exclusive to Python and are seen in a myriad of different software, such as R."
   ]
  },
  {
   "cell_type": "markdown",
   "metadata": {},
   "source": [
    "_________________________________________________________________________________________________ "
   ]
  },
  {
   "cell_type": "markdown",
   "metadata": {},
   "source": [
    "## International Space Station API\n",
    "\n",
    "Let's use an API to find out how many people are currently in space."
   ]
  },
  {
   "cell_type": "code",
   "execution_count": null,
   "metadata": {},
   "outputs": [],
   "source": [
    "#Real time ISS tracker - www.101computing.net/real-time-ISS-tracker/\n",
    "\n",
    "import json, urllib.request\n",
    "\n",
    "#JSON request to retrieve the name of all the astronauts currently in space.\n",
    "\n",
    "url = \"http://api.open-notify.org/astros.json\" # Name of website\n",
    "response = urllib.request.urlopen(url) #Open the URL\n",
    "result = json.loads(response.read()) #Deserialize -- Turn JSON to readable Python object\n",
    "print(\"There are currently \" + str(result[\"number\"]) + \" astronauts in space:\") #Generate sentence that uses variables from JSON\n",
    "print(\"\") #Add space between first line and next lines\n",
    "\n",
    "people = result[\"people\"]\n",
    "\n",
    "for p in people:\n",
    "  print(p[\"name\"] + \" on board of \" + p[\"craft\"])"
   ]
  },
  {
   "cell_type": "markdown",
   "metadata": {},
   "source": [
    "## Weather API\n",
    "\n",
    "With the OpenWeatherMap API we can access weather data over any specified duration of time from any weather staiton in the United States and pull it directly into our Jupyter Notebook."
   ]
  },
  {
   "cell_type": "markdown",
   "metadata": {},
   "source": [
    "First thing that has to be done is to retrieve an API Key from OpenWeatherMap:\n",
    "\n",
    "https://openweathermap.org/appid\n",
    "\n",
    "We also need the website API website address:\n",
    "\n",
    "http://api.openweathermap.org/data/2.5/weather?"
   ]
  },
  {
   "cell_type": "code",
   "execution_count": null,
   "metadata": {},
   "outputs": [],
   "source": [
    "import requests, json\n",
    "api_key = \"your API key here",
    "base_url = \"http://api.openweathermap.org/data/2.5/weather?\"\n",
    "\n",
    "city_name = input(\"Enter City Name:\") ##Keep as \"Enter City Name:\"\n",
    "\n",
    "complete_url = base_url + \"appid=\" + api_key + \"&q=\" + city_name\n",
    "response = requests.get(complete_url)\n",
    "\n",
    "x = response.json()\n",
    "if x[\"cod\"] != \"404\":\n",
    "    y = x[\"main\"]\n",
    "    current_temperature = y[\"temp\"]\n",
    "    current_pressure = y[\"pressure\"]\n",
    "    current_humidity = y[\"humidity\"]\n",
    "    z = x[\"weather\"]\n",
    "    weather_description = z[0][\"description\"]\n",
    "    print(\" Temperature (in kelvin unit) = \" +\n",
    "                    str(current_temperature) + \n",
    "          \"\\n atmospheric pressure (in hPa unit) = \" +\n",
    "                    str(current_pressure) +\n",
    "          \"\\n humidity (in percentage) = \" +\n",
    "                    str(current_humidity) +\n",
    "          \"\\n description = \" +\n",
    "                    str(weather_description)) \n",
    "  \n",
    "else: \n",
    "    print(\" City Not Found \") "
   ]
  },
  {
   "cell_type": "markdown",
   "metadata": {},
   "source": [
    "___________________________________________________________________________________________________________________________"
   ]
  },
  {
   "cell_type": "markdown",
   "metadata": {},
   "source": [
    "___________________________________________________________________________________________________________________________"
   ]
  }
 ],
 "metadata": {
  "kernelspec": {
   "display_name": "Python 3",
   "language": "python",
   "name": "python3"
  },
  "language_info": {
   "codemirror_mode": {
    "name": "ipython",
    "version": 3
   },
   "file_extension": ".py",
   "mimetype": "text/x-python",
   "name": "python",
   "nbconvert_exporter": "python",
   "pygments_lexer": "ipython3",
   "version": "3.8.1"
  }
 },
 "nbformat": 4,
 "nbformat_minor": 2
}
